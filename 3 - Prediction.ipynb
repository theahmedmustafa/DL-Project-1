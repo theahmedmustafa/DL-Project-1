{
 "cells": [
  {
   "cell_type": "markdown",
   "metadata": {},
   "source": [
    "#### Imports"
   ]
  },
  {
   "cell_type": "code",
   "execution_count": 1,
   "metadata": {},
   "outputs": [],
   "source": [
    "from cnn import *\n",
    "import cv2\n",
    "from os import listdir"
   ]
  },
  {
   "cell_type": "markdown",
   "metadata": {},
   "source": [
    "#### Constants"
   ]
  },
  {
   "cell_type": "code",
   "execution_count": 2,
   "metadata": {},
   "outputs": [],
   "source": [
    "IN_SHAPE = (1, 50, 50)\n",
    "LABELS = ['Basophil', 'Eosinophil', 'Erythroblast', 'Immunoglobulin', 'Lymphocyte', 'Monocyte', 'Neutrophil', 'Platelet']\n",
    "PRED_DATASET_PATH = 'Prediction Dataset/'"
   ]
  },
  {
   "cell_type": "markdown",
   "metadata": {},
   "source": [
    "#### Model"
   ]
  },
  {
   "cell_type": "code",
   "execution_count": 3,
   "metadata": {},
   "outputs": [],
   "source": [
    "# Initalize Model\n",
    "model = CNN()\n",
    "# Conv 1\n",
    "conv1 = Convolution(16, 3, IN_SHAPE)\n",
    "model.add(conv1)\n",
    "# Pool 1\n",
    "pool1 = Pool(3, conv1.out_shape, 3)\n",
    "model.add(pool1)\n",
    "# Conv 2\n",
    "conv2 = Convolution(32, 5, pool1.out_shape)\n",
    "model.add(conv2)\n",
    "# Pool 2\n",
    "pool2 = Pool(2, conv2.out_shape, 2)\n",
    "model.add(pool2)\n",
    "# Flat\n",
    "flat = Flat()\n",
    "model.add(flat)\n",
    "# Hidden\n",
    "hidden1 = Dense(512, pool2.size) #1152\n",
    "model.add(hidden1)\n",
    "# Hidden\n",
    "hidden2 = Dense(64, 512)\n",
    "model.add(hidden2)\n",
    "# Out\n",
    "out = Dense(8, 64, 'softmax')\n",
    "model.add(out)"
   ]
  },
  {
   "cell_type": "code",
   "execution_count": 4,
   "metadata": {},
   "outputs": [
    {
     "name": "stdout",
     "output_type": "stream",
     "text": [
      "Weights loaded from file Models/model_e12_a1e-3.txt\n"
     ]
    }
   ],
   "source": [
    "# Load Model Weights\n",
    "model.load_weights('Models/model_e12_a1e-3.txt')"
   ]
  },
  {
   "cell_type": "markdown",
   "metadata": {},
   "source": [
    "#### Load Prediction Dataset"
   ]
  },
  {
   "cell_type": "code",
   "execution_count": 5,
   "metadata": {},
   "outputs": [
    {
     "name": "stdout",
     "output_type": "stream",
     "text": [
      "Dataset Loaded\n",
      "Total examples: 40\n"
     ]
    }
   ],
   "source": [
    "data, files = [], []\n",
    "# Walk over Dataset\n",
    "for file in listdir(PRED_DATASET_PATH):\n",
    "    # Add to File Store\n",
    "    files.append(file)\n",
    "    # Process Image\n",
    "    path = PRED_DATASET_PATH + file\n",
    "    raw = cv2.imread(path)\n",
    "    gray = cv2.cvtColor(raw, cv2.COLOR_BGR2GRAY)\n",
    "    img = cv2.resize(gray, (50, 50))\n",
    "    # Add to Dataset\n",
    "    data.append(img / 255)\n",
    "# Convert to numpy array\n",
    "data = np.reshape(data, (len(data), 1, 50, 50))\n",
    "# Print\n",
    "print('Dataset Loaded\\nTotal examples:', len(data))"
   ]
  },
  {
   "cell_type": "markdown",
   "metadata": {},
   "source": [
    "#### Predict"
   ]
  },
  {
   "cell_type": "code",
   "execution_count": 6,
   "metadata": {
    "scrolled": false
   },
   "outputs": [
    {
     "name": "stdout",
     "output_type": "stream",
     "text": [
      "Image: BA_1223.jpg\n",
      "Predicted Class: Basophil\n",
      "Confidence:44.39%\n",
      "\n",
      "Image: BA_1581.jpg\n",
      "Predicted Class: Basophil\n",
      "Confidence:44.13%\n",
      "\n",
      "Image: BA_2035.jpg\n",
      "Predicted Class: Immunoglobulin\n",
      "Confidence:48.55%\n",
      "\n",
      "Image: BA_47.jpg\n",
      "Predicted Class: Basophil\n",
      "Confidence:87.95%\n",
      "\n",
      "Image: BA_580.jpg\n",
      "Predicted Class: Lymphocyte\n",
      "Confidence:49.91%\n",
      "\n",
      "Image: BNE_1830.jpg\n",
      "Predicted Class: Neutrophil\n",
      "Confidence:39.50%\n",
      "\n",
      "Image: BNE_2019.jpg\n",
      "Predicted Class: Monocyte\n",
      "Confidence:37.43%\n",
      "\n",
      "Image: BNE_2234.jpg\n",
      "Predicted Class: Erythroblast\n",
      "Confidence:58.54%\n",
      "\n",
      "Image: BNE_715.jpg\n",
      "Predicted Class: Erythroblast\n",
      "Confidence:72.37%\n",
      "\n",
      "Image: BNE_840.jpg\n",
      "Predicted Class: Eosinophil\n",
      "Confidence:32.00%\n",
      "\n",
      "Image: EO_27.jpg\n",
      "Predicted Class: Monocyte\n",
      "Confidence:60.05%\n",
      "\n",
      "Image: EO_421.jpg\n",
      "Predicted Class: Eosinophil\n",
      "Confidence:37.46%\n",
      "\n",
      "Image: EO_442.jpg\n",
      "Predicted Class: Eosinophil\n",
      "Confidence:51.64%\n",
      "\n",
      "Image: EO_708.jpg\n",
      "Predicted Class: Eosinophil\n",
      "Confidence:65.06%\n",
      "\n",
      "Image: EO_801.jpg\n",
      "Predicted Class: Eosinophil\n",
      "Confidence:42.38%\n",
      "\n",
      "Image: ERB_2158.jpg\n",
      "Predicted Class: Erythroblast\n",
      "Confidence:91.87%\n",
      "\n",
      "Image: ERB_233.jpg\n",
      "Predicted Class: Erythroblast\n",
      "Confidence:52.60%\n",
      "\n",
      "Image: ERB_2429.jpg\n",
      "Predicted Class: Neutrophil\n",
      "Confidence:67.79%\n",
      "\n",
      "Image: ERB_493.jpg\n",
      "Predicted Class: Erythroblast\n",
      "Confidence:83.94%\n",
      "\n",
      "Image: ERB_685.jpg\n",
      "Predicted Class: Erythroblast\n",
      "Confidence:92.95%\n",
      "\n",
      "Image: IG_241642.jpg\n",
      "Predicted Class: Immunoglobulin\n",
      "Confidence:32.60%\n",
      "\n",
      "Image: IG_28760.jpg\n",
      "Predicted Class: Neutrophil\n",
      "Confidence:67.86%\n",
      "\n",
      "Image: IG_57061.jpg\n",
      "Predicted Class: Eosinophil\n",
      "Confidence:42.04%\n",
      "\n",
      "Image: IG_5887.jpg\n",
      "Predicted Class: Neutrophil\n",
      "Confidence:58.90%\n",
      "\n",
      "Image: IG_60755.jpg\n",
      "Predicted Class: Neutrophil\n",
      "Confidence:55.67%\n",
      "\n",
      "Image: LY_3530.jpg\n",
      "Predicted Class: Lymphocyte\n",
      "Confidence:62.08%\n",
      "\n",
      "Image: LY_3945.jpg\n",
      "Predicted Class: Erythroblast\n",
      "Confidence:66.14%\n",
      "\n",
      "Image: LY_4334.jpg\n",
      "Predicted Class: Lymphocyte\n",
      "Confidence:63.98%\n",
      "\n",
      "Image: LY_4757.jpg\n",
      "Predicted Class: Lymphocyte\n",
      "Confidence:39.83%\n",
      "\n",
      "Image: LY_6217.jpg\n",
      "Predicted Class: Immunoglobulin\n",
      "Confidence:39.37%\n",
      "\n",
      "Image: MO_1524.jpg\n",
      "Predicted Class: Basophil\n",
      "Confidence:51.47%\n",
      "\n",
      "Image: MO_2221.jpg\n",
      "Predicted Class: Monocyte\n",
      "Confidence:62.84%\n",
      "\n",
      "Image: MO_2733.jpg\n",
      "Predicted Class: Eosinophil\n",
      "Confidence:54.72%\n",
      "\n",
      "Image: MO_2893.jpg\n",
      "Predicted Class: Monocyte\n",
      "Confidence:46.49%\n",
      "\n",
      "Image: MO_3281.jpg\n",
      "Predicted Class: Monocyte\n",
      "Confidence:42.03%\n",
      "\n",
      "Image: PLATELET_2033.jpg\n",
      "Predicted Class: Platelet\n",
      "Confidence:99.80%\n",
      "\n",
      "Image: PLATELET_344.jpg\n",
      "Predicted Class: Platelet\n",
      "Confidence:99.62%\n",
      "\n",
      "Image: PLATELET_516.jpg\n",
      "Predicted Class: Platelet\n",
      "Confidence:99.85%\n",
      "\n",
      "Image: PLATELET_597.jpg\n",
      "Predicted Class: Platelet\n",
      "Confidence:99.65%\n",
      "\n",
      "Image: PLATELET_704.jpg\n",
      "Predicted Class: Platelet\n",
      "Confidence:99.86%\n",
      "\n"
     ]
    }
   ],
   "source": [
    "predictions = []\n",
    "for i,x in enumerate(data):\n",
    "    img = files[i]\n",
    "    out = model.forward(x)\n",
    "    pred = np.argmax(out)\n",
    "    label = LABELS[pred]\n",
    "    conf = out[pred][0]\n",
    "    predictions.append((img, label, conf))\n",
    "    \n",
    "for val in predictions:\n",
    "    img, label, conf = val\n",
    "    print(f'Image: {img}\\nPredicted Class: {label}\\nConfidence:{conf:.2%}\\n')"
   ]
  },
  {
   "cell_type": "code",
   "execution_count": null,
   "metadata": {},
   "outputs": [],
   "source": []
  }
 ],
 "metadata": {
  "kernelspec": {
   "display_name": "Python 3",
   "language": "python",
   "name": "python3"
  },
  "language_info": {
   "codemirror_mode": {
    "name": "ipython",
    "version": 3
   },
   "file_extension": ".py",
   "mimetype": "text/x-python",
   "name": "python",
   "nbconvert_exporter": "python",
   "pygments_lexer": "ipython3",
   "version": "3.7.3"
  }
 },
 "nbformat": 4,
 "nbformat_minor": 2
}
